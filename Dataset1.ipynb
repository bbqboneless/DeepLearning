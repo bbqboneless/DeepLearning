{
 "cells": [
  {
   "cell_type": "code",
   "execution_count": 2,
   "id": "c7cc3a0d",
   "metadata": {},
   "outputs": [],
   "source": [
    "import csv\n",
    "from xlsxwriter.workbook import Workbook"
   ]
  },
  {
   "cell_type": "code",
   "execution_count": 3,
   "id": "1abca124",
   "metadata": {},
   "outputs": [],
   "source": [
    "tsv = 'dataset-esp-eng.tsv'\n",
    "xlsx = 'dataset-esp-eng.xlsx'\n",
    "\n",
    "workbook = Workbook(xlsx)\n",
    "worksheet = workbook.add_worksheet()\n",
    "\n",
    "read_tsv = csv.reader(open(tsv, 'r', encoding='utf-8'), delimiter='\\t')\n",
    "\n",
    "for row, data in enumerate(read_tsv):\n",
    "    worksheet.write_row(row, 0, data)\n",
    "    \n",
    "workbook.close()"
   ]
  },
  {
   "cell_type": "code",
   "execution_count": 6,
   "id": "327be897",
   "metadata": {},
   "outputs": [
    {
     "data": {
      "text/html": [
       "<div>\n",
       "<style scoped>\n",
       "    .dataframe tbody tr th:only-of-type {\n",
       "        vertical-align: middle;\n",
       "    }\n",
       "\n",
       "    .dataframe tbody tr th {\n",
       "        vertical-align: top;\n",
       "    }\n",
       "\n",
       "    .dataframe thead th {\n",
       "        text-align: right;\n",
       "    }\n",
       "</style>\n",
       "<table border=\"1\" class=\"dataframe\">\n",
       "  <thead>\n",
       "    <tr style=\"text-align: right;\">\n",
       "      <th></th>\n",
       "      <th>esp_id</th>\n",
       "      <th>esp_sentence</th>\n",
       "      <th>eng_id</th>\n",
       "      <th>eng_sentence</th>\n",
       "    </tr>\n",
       "  </thead>\n",
       "  <tbody>\n",
       "    <tr>\n",
       "      <th>0</th>\n",
       "      <td>2481</td>\n",
       "      <td>¡Intentemos algo!</td>\n",
       "      <td>1276.0</td>\n",
       "      <td>Let's try something.</td>\n",
       "    </tr>\n",
       "    <tr>\n",
       "      <th>1</th>\n",
       "      <td>2482</td>\n",
       "      <td>Tengo que irme a dormir.</td>\n",
       "      <td>1277.0</td>\n",
       "      <td>I have to go to sleep.</td>\n",
       "    </tr>\n",
       "    <tr>\n",
       "      <th>2</th>\n",
       "      <td>2483</td>\n",
       "      <td>¿Qué estás haciendo?</td>\n",
       "      <td>16492.0</td>\n",
       "      <td>What are you doing?</td>\n",
       "    </tr>\n",
       "    <tr>\n",
       "      <th>3</th>\n",
       "      <td>2483</td>\n",
       "      <td>¿Qué estás haciendo?</td>\n",
       "      <td>241947.0</td>\n",
       "      <td>What are you doing now?</td>\n",
       "    </tr>\n",
       "    <tr>\n",
       "      <th>4</th>\n",
       "      <td>2483</td>\n",
       "      <td>¿Qué estás haciendo?</td>\n",
       "      <td>516639.0</td>\n",
       "      <td>What are you up to?</td>\n",
       "    </tr>\n",
       "    <tr>\n",
       "      <th>...</th>\n",
       "      <td>...</td>\n",
       "      <td>...</td>\n",
       "      <td>...</td>\n",
       "      <td>...</td>\n",
       "    </tr>\n",
       "    <tr>\n",
       "      <th>257935</th>\n",
       "      <td>11632656</td>\n",
       "      <td>Tenemos derecho a la huelga.</td>\n",
       "      <td>11632625.0</td>\n",
       "      <td>We have the right to strike.</td>\n",
       "    </tr>\n",
       "    <tr>\n",
       "      <th>257936</th>\n",
       "      <td>11632700</td>\n",
       "      <td>Mi burro es más rápido que tu coche.</td>\n",
       "      <td>11632680.0</td>\n",
       "      <td>My donkey is faster than your car.</td>\n",
       "    </tr>\n",
       "    <tr>\n",
       "      <th>257937</th>\n",
       "      <td>11633141</td>\n",
       "      <td>Ese lenguaje sería más interesante si no tuvie...</td>\n",
       "      <td>11633116.0</td>\n",
       "      <td>That language would be more interesting if it ...</td>\n",
       "    </tr>\n",
       "    <tr>\n",
       "      <th>257938</th>\n",
       "      <td>11633426</td>\n",
       "      <td>Las personas sin hogar son nuestros vecinos.</td>\n",
       "      <td>11633317.0</td>\n",
       "      <td>Homeless people are our neighbors.</td>\n",
       "    </tr>\n",
       "    <tr>\n",
       "      <th>257939</th>\n",
       "      <td>968475</td>\n",
       "      <td>Nancy rara vez sonríe.</td>\n",
       "      <td>11633433.0</td>\n",
       "      <td>Nancy rarely smiles.</td>\n",
       "    </tr>\n",
       "  </tbody>\n",
       "</table>\n",
       "<p>257940 rows × 4 columns</p>\n",
       "</div>"
      ],
      "text/plain": [
       "          esp_id                                       esp_sentence  \\\n",
       "0           2481                                  ¡Intentemos algo!   \n",
       "1           2482                           Tengo que irme a dormir.   \n",
       "2           2483                               ¿Qué estás haciendo?   \n",
       "3           2483                               ¿Qué estás haciendo?   \n",
       "4           2483                               ¿Qué estás haciendo?   \n",
       "...          ...                                                ...   \n",
       "257935  11632656                       Tenemos derecho a la huelga.   \n",
       "257936  11632700               Mi burro es más rápido que tu coche.   \n",
       "257937  11633141  Ese lenguaje sería más interesante si no tuvie...   \n",
       "257938  11633426       Las personas sin hogar son nuestros vecinos.   \n",
       "257939    968475                             Nancy rara vez sonríe.   \n",
       "\n",
       "            eng_id                                       eng_sentence  \n",
       "0           1276.0                               Let's try something.  \n",
       "1           1277.0                             I have to go to sleep.  \n",
       "2          16492.0                                What are you doing?  \n",
       "3         241947.0                            What are you doing now?  \n",
       "4         516639.0                                What are you up to?  \n",
       "...            ...                                                ...  \n",
       "257935  11632625.0                       We have the right to strike.  \n",
       "257936  11632680.0                 My donkey is faster than your car.  \n",
       "257937  11633116.0  That language would be more interesting if it ...  \n",
       "257938  11633317.0                 Homeless people are our neighbors.  \n",
       "257939  11633433.0                               Nancy rarely smiles.  \n",
       "\n",
       "[257940 rows x 4 columns]"
      ]
     },
     "execution_count": 6,
     "metadata": {},
     "output_type": "execute_result"
    }
   ],
   "source": [
    "import pandas as pd\n",
    "\n",
    "headers = ['esp_id','esp_sentence','eng_id','eng_sentence']\n",
    "df = pd.read_excel('dataset-esp-eng.xlsx',header=None,names=headers)\n",
    "df"
   ]
  },
  {
   "cell_type": "markdown",
   "id": "3311e9b9",
   "metadata": {},
   "source": [
    "### ManyThings.org"
   ]
  },
  {
   "cell_type": "code",
   "execution_count": 12,
   "id": "5bcfc1c0",
   "metadata": {},
   "outputs": [],
   "source": [
    "import time\n",
    "import MeCab\n",
    "import numpy as np\n",
    "import pandas as pd\n",
    "import tensorflow as tf\n",
    "import matplotlib.pyplot as plt\n",
    "import matplotlib.ticker as ticker\n",
    "from sklearn.model_selection import train_test_split\n",
    "import nltk\n",
    "from nltk.translate.bleu_score import sentence_bleu\n",
    "from IPython.display import display"
   ]
  },
  {
   "cell_type": "code",
   "execution_count": 13,
   "id": "9ac38f9f",
   "metadata": {},
   "outputs": [
    {
     "name": "stderr",
     "output_type": "stream",
     "text": [
      "[nltk_data] Downloading package punkt to\n",
      "[nltk_data]     C:\\Users\\sammy\\AppData\\Roaming\\nltk_data...\n",
      "[nltk_data]   Package punkt is already up-to-date!\n"
     ]
    },
    {
     "data": {
      "text/plain": [
       "True"
      ]
     },
     "execution_count": 13,
     "metadata": {},
     "output_type": "execute_result"
    }
   ],
   "source": [
    "nltk.download('punkt')"
   ]
  },
  {
   "cell_type": "markdown",
   "id": "a562011f",
   "metadata": {},
   "source": [
    "### Cleaning the dataset"
   ]
  },
  {
   "cell_type": "code",
   "execution_count": 14,
   "id": "4c060464",
   "metadata": {},
   "outputs": [
    {
     "name": "stdout",
     "output_type": "stream",
     "text": [
      "[Created] cleaned_spa_eng.txt\n"
     ]
    }
   ],
   "source": [
    "file = \"spa.txt\"\n",
    "cleaned_file = \"cleaned_spa_eng.txt\"\n",
    "\n",
    "def cleaning(file,cleaned_file):\n",
    "    df = pd.read_table(file,names=['target','source','noise'])\n",
    "    df = df.iloc[:,:2]\n",
    "    df = df.reindex(columns=['source','target'])\n",
    "    df.insert(1,'separator',['\\t' for i in range(df.shape[0])])\n",
    "    np_array = df.to_numpy()\n",
    "    np.savetxt(cleaned_file,np_array,fmt=\"%s\",encoding='utf-8')\n",
    "    print(\"[Created] {}\".format(cleaned_file))\n",
    "    \n",
    "cleaning(file,cleaned_file)"
   ]
  },
  {
   "cell_type": "code",
   "execution_count": null,
   "id": "1e1f4f00",
   "metadata": {},
   "outputs": [],
   "source": []
  }
 ],
 "metadata": {
  "kernelspec": {
   "display_name": "Python 3 (ipykernel)",
   "language": "python",
   "name": "python3"
  },
  "language_info": {
   "codemirror_mode": {
    "name": "ipython",
    "version": 3
   },
   "file_extension": ".py",
   "mimetype": "text/x-python",
   "name": "python",
   "nbconvert_exporter": "python",
   "pygments_lexer": "ipython3",
   "version": "3.9.7"
  }
 },
 "nbformat": 4,
 "nbformat_minor": 5
}
